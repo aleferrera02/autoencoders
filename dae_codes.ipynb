{
 "cells": [
  {
   "cell_type": "code",
   "execution_count": 132,
   "metadata": {},
   "outputs": [],
   "source": [
    "#import libraries\n",
    "import numpy as np\n",
    "import tensorflow as tf\n",
    "import matplotlib.pyplot as plt\n",
    "import pandas as pd\n",
    "import time\n",
    "from tensorflow import keras\n",
    "from medmnist import ChestMNIST\n",
    "from sklearn.decomposition import PCA\n",
    "from sklearn.metrics import mean_squared_error\n",
    "from matplotlib.gridspec import GridSpec\n"
   ]
  },
  {
   "cell_type": "code",
   "execution_count": 119,
   "metadata": {},
   "outputs": [
    {
     "name": "stdout",
     "output_type": "stream",
     "text": [
      "Using downloaded and verified file: ./data/chestmnist.npz\n",
      "Using downloaded and verified file: ./data/chestmnist.npz\n"
     ]
    }
   ],
   "source": [
    "#import data\n",
    "x_train = ChestMNIST(root='./data', split='train', transform=None, download=True)\n",
    "x_test = ChestMNIST(root='./data', split='test', transform=None, download=True)\n",
    "x_train = x_train.imgs\n",
    "x_test = x_test.imgs\n",
    "\n",
    "x_train = x_train.astype('float32') / 255\n",
    "x_test = x_test.astype('float32') / 255\n",
    "x_train = np.reshape(x_train, (len(x_train), 784))\n",
    "x_test = np.reshape(x_test, (len(x_test), 784))"
   ]
  },
  {
   "cell_type": "code",
   "execution_count": 135,
   "metadata": {},
   "outputs": [],
   "source": [
    "def print_results(pca, autoencoder, cnn, x_test, x_test_noisy, n, name):\n",
    "    decodedPCA = pca.inverse_transform(pca.transform(x_test_noisy))\n",
    "    decodedDAE = autoencoder.predict(x_test_noisy)\n",
    "    decodedCNN = cnn.predict(x_test_noisy.reshape(-1, 28, 28, 1)).reshape(-1, 784)\n",
    "    fig = plt.figure(figsize=(10, 5))\n",
    "    gs = GridSpec(2, 3, height_ratios=[1, 1]) \n",
    "    for i in range(n):\n",
    "        ax = fig.add_subplot(gs[0,0:2])\n",
    "        plt.imshow(x_test[i].reshape(28, 28))\n",
    "        plt.gray()\n",
    "        ax.get_xaxis().set_visible(False)\n",
    "        ax.get_yaxis().set_visible(False)\n",
    "\n",
    "        ax = fig.add_subplot(gs[0,1:3])\n",
    "        plt.imshow(x_test_noisy[i].reshape(28, 28))\n",
    "        plt.gray()\n",
    "        ax.get_xaxis().set_visible(False)\n",
    "        ax.get_yaxis().set_visible(False)\n",
    "\n",
    "        ax = fig.add_subplot(gs[1,0])\n",
    "        plt.imshow(decodedPCA[i].reshape(28, 28))\n",
    "        plt.gray()\n",
    "        ax.get_xaxis().set_visible(False)\n",
    "        ax.get_yaxis().set_visible(False)\n",
    "        \n",
    "        ax = fig.add_subplot(gs[1,1])\n",
    "        plt.imshow(decodedDAE[i].reshape(28, 28))\n",
    "        plt.gray()\n",
    "        ax.get_xaxis().set_visible(False)\n",
    "        ax.get_yaxis().set_visible(False)\n",
    "\n",
    "        ax = fig.add_subplot(gs[1,2])\n",
    "        plt.imshow(decodedCNN[i].reshape(28, 28))\n",
    "        plt.gray()\n",
    "        ax.get_xaxis().set_visible(False)\n",
    "        ax.get_yaxis().set_visible(False)\n",
    "\n",
    "    plt.savefig(name)"
   ]
  },
  {
   "cell_type": "code",
   "execution_count": 121,
   "metadata": {},
   "outputs": [],
   "source": [
    "# Create the encoder\n",
    "def dae(x_train, x_train_noisy, x_test, x_test_noisy, latent_dim):\n",
    "    start = time.time()\n",
    "\n",
    "    input_img = keras.layers.Input(shape=(784,))\n",
    "    encoded = keras.layers.Dense(128, activation='relu')(input_img)\n",
    "    encoded = keras.layers.Dense(64, activation='relu')(encoded)\n",
    "    encoded = keras.layers.Dense(latent_dim, activation='relu')(encoded)\n",
    "\n",
    "    decoded = keras.layers.Dense(64, activation='relu')(encoded)\n",
    "    decoded = keras.layers.Dense(128, activation='relu')(decoded)\n",
    "    decoded = keras.layers.Dense(784, activation='sigmoid')(decoded)\n",
    "\n",
    "    autoencoder = keras.models.Model(input_img, decoded)\n",
    "    autoencoder.compile(optimizer=keras.optimizers.Adam(), loss=keras.losses.MeanSquaredError())\n",
    "\n",
    "    #train\n",
    "    autoencoder.fit(x_train_noisy, x_train, epochs=10, batch_size=64, shuffle=True, validation_data=(x_test_noisy, x_test))\n",
    "\n",
    "    #test\n",
    "    decoded_imgs = autoencoder.predict(x_test_noisy)\n",
    "    end = time.time()\n",
    "\n",
    "    mse = keras.losses.MeanSquaredError()\n",
    "    return autoencoder, mse(x_test, decoded_imgs).numpy(), end - start\n"
   ]
  },
  {
   "cell_type": "code",
   "execution_count": 122,
   "metadata": {},
   "outputs": [],
   "source": [
    "# Create the encoder\n",
    "def cnn_dae(x_train, x_train_noisy, x_test, x_test_noisy, latent_dim):\n",
    "    x_train = np.reshape(x_train, (len(x_train), 28, 28, 1))\n",
    "    x_test = np.reshape(x_test, (len(x_test), 28, 28, 1))\n",
    "    x_test_noisy = np.reshape(x_test_noisy, (len(x_test_noisy), 28, 28, 1))\n",
    "    x_train_noisy = np.reshape(x_train_noisy, (len(x_train_noisy), 28, 28, 1))\n",
    "    start = time.time()\n",
    "    autoencoder = keras.Sequential([\n",
    "        keras.layers.Conv2D(32, (3, 3), activation='relu', padding='same', input_shape=(28, 28, 1)),\n",
    "        keras.layers.MaxPooling2D((2, 2), padding='same'),\n",
    "        keras.layers.Conv2D(64, (3, 3), activation='relu', padding='same'),\n",
    "        keras.layers.MaxPooling2D((2, 2), padding='same'),\n",
    "        keras.layers.Flatten(),\n",
    "        keras.layers.Dense(latent_dim, activation='relu'),\n",
    "        keras.layers.Dense(128, activation='relu'),\n",
    "        keras.layers.Dense(784, activation='sigmoid'),\n",
    "        keras.layers.Reshape((28, 28, 1)),\n",
    "    ])\n",
    "    autoencoder.compile(optimizer='adam', loss='mean_squared_error')\n",
    "\n",
    "    #train\n",
    "    autoencoder.fit(x_train_noisy, x_train, epochs=10, batch_size=64, shuffle=True, validation_data=(x_test_noisy, x_test))\n",
    "\n",
    "    #test\n",
    "    decoded_imgs = autoencoder.predict(x_test_noisy)\n",
    "    end = time.time()\n",
    "\n",
    "    mse = keras.losses.MeanSquaredError()\n",
    "    return autoencoder, mse(x_test, decoded_imgs).numpy(), end - start\n"
   ]
  },
  {
   "cell_type": "code",
   "execution_count": 123,
   "metadata": {},
   "outputs": [],
   "source": [
    "# create PCA\n",
    "def pca(x_train_noisy,x_test,x_test_noisy, latent_dim):\n",
    "    start = time.time()\n",
    "    pca = PCA(n_components=latent_dim)\n",
    "    pca.fit(x_train_noisy)\n",
    "    x_test_pca = pca.transform(x_test_noisy)\n",
    "    decoded_imgs_test = pca.inverse_transform(x_test_pca)\n",
    "    end = time.time()\n",
    "\n",
    "    mse_value = mean_squared_error(x_test.flatten(), decoded_imgs_test.flatten())  # Flatten per comparare le immagini\n",
    "    return pca, mse_value, end - start\n"
   ]
  },
  {
   "cell_type": "code",
   "execution_count": 124,
   "metadata": {},
   "outputs": [],
   "source": [
    "#add gaussian noise\n",
    "noise_factor = 1\n",
    "np.random.seed(674)\n",
    "x_train_noisy = x_train + noise_factor * np.random.normal(loc=0.0, scale=1.0, size=x_train.shape)\n",
    "x_train_noisy_2 = x_train_noisy + noise_factor * np.random.normal(loc=0.0, scale=1.0, size=x_train.shape)\n",
    "x_train_pca = np.vstack((x_train_noisy, x_train_noisy_2))\n",
    "x_test_noisy = x_test + noise_factor * np.random.normal(loc=0.0, scale=1.0, size=x_test.shape)\n",
    "x_train_noisy = np.clip(x_train_noisy, 0., 1.)\n",
    "x_test_noisy = np.clip(x_test_noisy, 0., 1.)    "
   ]
  },
  {
   "cell_type": "code",
   "execution_count": 126,
   "metadata": {},
   "outputs": [
    {
     "name": "stdout",
     "output_type": "stream",
     "text": [
      "Epoch 1/10\n",
      "\u001b[1m1227/1227\u001b[0m \u001b[32m━━━━━━━━━━━━━━━━━━━━\u001b[0m\u001b[37m\u001b[0m \u001b[1m14s\u001b[0m 5ms/step - loss: 2.0240 - val_loss: 0.0258\n",
      "Epoch 2/10\n",
      "\u001b[1m1227/1227\u001b[0m \u001b[32m━━━━━━━━━━━━━━━━━━━━\u001b[0m\u001b[37m\u001b[0m \u001b[1m4s\u001b[0m 3ms/step - loss: 2.0035 - val_loss: 0.0239\n",
      "Epoch 3/10\n",
      "\u001b[1m1227/1227\u001b[0m \u001b[32m━━━━━━━━━━━━━━━━━━━━\u001b[0m\u001b[37m\u001b[0m \u001b[1m4s\u001b[0m 3ms/step - loss: 1.9968 - val_loss: 0.0247\n",
      "Epoch 4/10\n",
      "\u001b[1m1227/1227\u001b[0m \u001b[32m━━━━━━━━━━━━━━━━━━━━\u001b[0m\u001b[37m\u001b[0m \u001b[1m4s\u001b[0m 4ms/step - loss: 1.9949 - val_loss: 0.0254\n",
      "Epoch 5/10\n",
      "\u001b[1m1227/1227\u001b[0m \u001b[32m━━━━━━━━━━━━━━━━━━━━\u001b[0m\u001b[37m\u001b[0m \u001b[1m4s\u001b[0m 4ms/step - loss: 1.9947 - val_loss: 0.0245\n",
      "Epoch 6/10\n",
      "\u001b[1m1227/1227\u001b[0m \u001b[32m━━━━━━━━━━━━━━━━━━━━\u001b[0m\u001b[37m\u001b[0m \u001b[1m6s\u001b[0m 5ms/step - loss: 1.9938 - val_loss: 0.0259\n",
      "Epoch 7/10\n",
      "\u001b[1m1227/1227\u001b[0m \u001b[32m━━━━━━━━━━━━━━━━━━━━\u001b[0m\u001b[37m\u001b[0m \u001b[1m5s\u001b[0m 4ms/step - loss: 1.9932 - val_loss: 0.0246\n",
      "Epoch 8/10\n",
      "\u001b[1m1227/1227\u001b[0m \u001b[32m━━━━━━━━━━━━━━━━━━━━\u001b[0m\u001b[37m\u001b[0m \u001b[1m5s\u001b[0m 4ms/step - loss: 1.9929 - val_loss: 0.0264\n",
      "Epoch 9/10\n",
      "\u001b[1m1227/1227\u001b[0m \u001b[32m━━━━━━━━━━━━━━━━━━━━\u001b[0m\u001b[37m\u001b[0m \u001b[1m5s\u001b[0m 4ms/step - loss: 1.9933 - val_loss: 0.0251\n",
      "Epoch 10/10\n",
      "\u001b[1m1227/1227\u001b[0m \u001b[32m━━━━━━━━━━━━━━━━━━━━\u001b[0m\u001b[37m\u001b[0m \u001b[1m4s\u001b[0m 3ms/step - loss: 1.9914 - val_loss: 0.0249\n",
      "\u001b[1m702/702\u001b[0m \u001b[32m━━━━━━━━━━━━━━━━━━━━\u001b[0m\u001b[37m\u001b[0m \u001b[1m1s\u001b[0m 2ms/step\n"
     ]
    },
    {
     "name": "stderr",
     "output_type": "stream",
     "text": [
      "/Library/Frameworks/Python.framework/Versions/3.12/lib/python3.12/site-packages/keras/src/layers/convolutional/base_conv.py:107: UserWarning: Do not pass an `input_shape`/`input_dim` argument to a layer. When using Sequential models, prefer using an `Input(shape)` object as the first layer in the model instead.\n",
      "  super().__init__(activity_regularizer=activity_regularizer, **kwargs)\n"
     ]
    },
    {
     "name": "stdout",
     "output_type": "stream",
     "text": [
      "Epoch 1/10\n",
      "\u001b[1m1227/1227\u001b[0m \u001b[32m━━━━━━━━━━━━━━━━━━━━\u001b[0m\u001b[37m\u001b[0m \u001b[1m66s\u001b[0m 48ms/step - loss: 2.0228 - val_loss: 0.0187\n",
      "Epoch 2/10\n",
      "\u001b[1m1227/1227\u001b[0m \u001b[32m━━━━━━━━━━━━━━━━━━━━\u001b[0m\u001b[37m\u001b[0m \u001b[1m52s\u001b[0m 42ms/step - loss: 2.0096 - val_loss: 0.0177\n",
      "Epoch 3/10\n",
      "\u001b[1m1227/1227\u001b[0m \u001b[32m━━━━━━━━━━━━━━━━━━━━\u001b[0m\u001b[37m\u001b[0m \u001b[1m51s\u001b[0m 41ms/step - loss: 2.0087 - val_loss: 0.0177\n",
      "Epoch 4/10\n",
      "\u001b[1m1227/1227\u001b[0m \u001b[32m━━━━━━━━━━━━━━━━━━━━\u001b[0m\u001b[37m\u001b[0m \u001b[1m78s\u001b[0m 38ms/step - loss: 2.0083 - val_loss: 0.0176\n",
      "Epoch 5/10\n",
      "\u001b[1m1227/1227\u001b[0m \u001b[32m━━━━━━━━━━━━━━━━━━━━\u001b[0m\u001b[37m\u001b[0m \u001b[1m49s\u001b[0m 40ms/step - loss: 2.0087 - val_loss: 0.0175\n",
      "Epoch 6/10\n",
      "\u001b[1m1227/1227\u001b[0m \u001b[32m━━━━━━━━━━━━━━━━━━━━\u001b[0m\u001b[37m\u001b[0m \u001b[1m50s\u001b[0m 41ms/step - loss: 2.0081 - val_loss: 0.0174\n",
      "Epoch 7/10\n",
      "\u001b[1m1227/1227\u001b[0m \u001b[32m━━━━━━━━━━━━━━━━━━━━\u001b[0m\u001b[37m\u001b[0m \u001b[1m53s\u001b[0m 43ms/step - loss: 2.0078 - val_loss: 0.0179\n",
      "Epoch 8/10\n",
      "\u001b[1m1227/1227\u001b[0m \u001b[32m━━━━━━━━━━━━━━━━━━━━\u001b[0m\u001b[37m\u001b[0m \u001b[1m51s\u001b[0m 41ms/step - loss: 2.0077 - val_loss: 0.0175\n",
      "Epoch 9/10\n",
      "\u001b[1m1227/1227\u001b[0m \u001b[32m━━━━━━━━━━━━━━━━━━━━\u001b[0m\u001b[37m\u001b[0m \u001b[1m51s\u001b[0m 42ms/step - loss: 2.0075 - val_loss: 0.0179\n",
      "Epoch 10/10\n",
      "\u001b[1m1227/1227\u001b[0m \u001b[32m━━━━━━━━━━━━━━━━━━━━\u001b[0m\u001b[37m\u001b[0m \u001b[1m54s\u001b[0m 44ms/step - loss: 2.0070 - val_loss: 0.0175\n",
      "\u001b[1m702/702\u001b[0m \u001b[32m━━━━━━━━━━━━━━━━━━━━\u001b[0m\u001b[37m\u001b[0m \u001b[1m4s\u001b[0m 6ms/step\n"
     ]
    }
   ],
   "source": [
    "#plot results\n",
    "pca_trial, pca_mse, pca_time = pca(x_train_pca, x_test, x_test_noisy, 20)\n",
    "dae_trial, dae_mse, dae_time = dae(x_train_noisy_2, x_train_noisy, x_test, x_test_noisy, 20)\n",
    "cnn_dae_trial, cnn_dae_mse, cnn_dae_time = cnn_dae(x_train_noisy_2, x_train_noisy, x_test, x_test_noisy, 20)\n"
   ]
  },
  {
   "cell_type": "code",
   "execution_count": 136,
   "metadata": {},
   "outputs": [
    {
     "name": "stdout",
     "output_type": "stream",
     "text": [
      "\u001b[1m702/702\u001b[0m \u001b[32m━━━━━━━━━━━━━━━━━━━━\u001b[0m\u001b[37m\u001b[0m \u001b[1m2s\u001b[0m 2ms/step\n",
      "\u001b[1m702/702\u001b[0m \u001b[32m━━━━━━━━━━━━━━━━━━━━\u001b[0m\u001b[37m\u001b[0m \u001b[1m4s\u001b[0m 5ms/step\n",
      "PCA MSE:  0.02895586575225355  Time:  3.337048053741455\n",
      "DAE MSE:  0.024949022  Time:  62.71557092666626\n"
     ]
    },
    {
     "data": {
      "image/png": "[encoded data removed]",
      "text/plain": [
       "<Figure size 1000x500 with 5 Axes>"
      ]
     },
     "metadata": {},
     "output_type": "display_data"
    }
   ],
   "source": [
    "print_results(pca_trial, dae_trial, cnn_dae_trial, x_test, x_test_noisy, 1, 'results_gaussian.png')\n",
    "print(\"PCA MSE: \", pca_mse, \" Time: \", pca_time)\n",
    "print(\"DAE MSE: \", dae_mse, \" Time: \", dae_time)"
   ]
  },
  {
   "cell_type": "code",
   "execution_count": null,
   "metadata": {},
   "outputs": [],
   "source": [
    "#run trials\n",
    "dims = [4,6,8,10,12,14]\n",
    "\n",
    "errPCA_gaussian = np.array([])\n",
    "errDAE_gaussian = np.array([])\n",
    "errCNN_gaussian = np.array([])\n",
    "timePCA_gaussian = np.array([])\n",
    "timeDAE_gaussian = np.array([])\n",
    "timeCNN_gaussian = np.array([])\n",
    "\n",
    "for dim in dims:\n",
    "    pca_trial, pca_mse, pca_time = pca(x_train_pca, x_test, x_test_noisy, dim)\n",
    "    dae_trial, dae_mse, dae_time = dae(x_train_noisy_2, x_train_noisy, x_test, x_test_noisy, dim)\n",
    "    cnn_dae_trial, cnn_dae_mse, cnn_dae_time = cnn_dae(x_train_noisy_2, x_train_noisy, x_test, x_test_noisy, dim)\n",
    "    errPCA_gaussian = np.append(errPCA_gaussian, pca_mse)\n",
    "    errDAE_gaussian = np.append(errDAE_gaussian, dae_mse)\n",
    "    errCNN_gaussian = np.append(errCNN_gaussian, cnn_dae_mse)\n",
    "    timePCA_gaussian = np.append(timePCA_gaussian, pca_time)\n",
    "    timeDAE_gaussian = np.append(timeDAE_gaussian, dae_time)\n",
    "    timeCNN_gaussian = np.append(timeCNN_gaussian, cnn_dae_time)"
   ]
  },
  {
   "cell_type": "code",
   "execution_count": null,
   "metadata": {},
   "outputs": [],
   "source": [
    "#plot mse\n",
    "plt.figure(figsize=(10, 5))\n",
    "plt.plot(dims, errPCA_gaussian, label='PCA', marker='o', color='r', linewidth=3, markersize=10)\n",
    "plt.plot(dims, errDAE_gaussian, label='DAE', marker='o', color='b', linewidth=3, markersize=10)\n",
    "plt.plot(dims, errCNN_gaussian, label='CNN-DAE', marker='o', color='g', linewidth=3, markersize=10)\n",
    "plt.xlabel('Latent dimension/Number of components', fontsize=16)\n",
    "plt.ylabel('MSE', fontsize=16)\n",
    "plt.legend(fontsize=16)\n",
    "plt.tick_params(axis='both', which='major', labelsize=16)\n",
    "plt.tight_layout()\n",
    "plt.savefig('validation_gaussian.eps')"
   ]
  },
  {
   "cell_type": "code",
   "execution_count": null,
   "metadata": {},
   "outputs": [],
   "source": [
    "#plot runtime\n",
    "plt.figure(figsize=(10, 5))\n",
    "plt.semilogy(dims, timePCA_gaussian, label='PCA', marker='o', color='r', linewidth=3, markersize=10)\n",
    "plt.semilogy(dims, timeCNN_gaussian, label='CNN-DAE', marker='o', color='g', linewidth=3, markersize=10)\n",
    "plt.semilogy(dims, timeDAE_gaussian, label='DAE', marker='o', color='b', linewidth=3, markersize=10)\n",
    "plt.xlabel('Latent dimension/Number of components', fontsize=16)\n",
    "plt.ylabel('Runtime [s]', fontsize=16)\n",
    "plt.legend(fontsize=13, loc='lower right')\n",
    "plt.ylim(1, 1100)\n",
    "plt.tick_params(axis='both', which='major', labelsize=16)\n",
    "plt.tight_layout()\n",
    "plt.savefig('runtime_gaussian.eps')"
   ]
  },
  {
   "cell_type": "code",
   "execution_count": 137,
   "metadata": {},
   "outputs": [],
   "source": [
    "#add low frequency noise\n",
    "matrix_train = np.array([np.linspace(0,np.random.randint(10,35)*np.pi,784) for i in range(x_train.shape[0])])\n",
    "matrix_train_2 = np.array([np.linspace(0,np.random.randint(10,35)*np.pi,784) for i in range(x_train.shape[0])])\n",
    "matrix_test = np.array([np.linspace(0,np.random.randint(10,35)*np.pi,784) for i in range(x_test.shape[0])])\n",
    "x_train_noisy = x_train + 0.2 * np.sin(matrix_train+2*np.pi*np.random.rand(x_train.shape[0])[:,None])\n",
    "x_train_noisy_2 = x_train_noisy + 0.2 * np.sin(matrix_train_2+2*np.pi*np.random.rand(x_train.shape[0])[:,None])\n",
    "x_train_pca = np.vstack((x_train_noisy, x_train_noisy_2))\n",
    "x_test_noisy = x_test + 0.2 * np.sin(matrix_test+2*np.pi*np.random.rand(x_test.shape[0])[:,None])\n",
    "x_train_noisy = np.clip(x_train_noisy, 0., 1.)\n",
    "x_test_noisy = np.clip(x_test_noisy, 0., 1.)"
   ]
  },
  {
   "cell_type": "code",
   "execution_count": 138,
   "metadata": {},
   "outputs": [
    {
     "name": "stdout",
     "output_type": "stream",
     "text": [
      "Epoch 1/10\n",
      "\u001b[1m1227/1227\u001b[0m \u001b[32m━━━━━━━━━━━━━━━━━━━━\u001b[0m\u001b[37m\u001b[0m \u001b[1m15s\u001b[0m 5ms/step - loss: 0.0557 - val_loss: 0.0115\n",
      "Epoch 2/10\n",
      "\u001b[1m1227/1227\u001b[0m \u001b[32m━━━━━━━━━━━━━━━━━━━━\u001b[0m\u001b[37m\u001b[0m \u001b[1m4s\u001b[0m 3ms/step - loss: 0.0439 - val_loss: 0.0111\n",
      "Epoch 3/10\n",
      "\u001b[1m1227/1227\u001b[0m \u001b[32m━━━━━━━━━━━━━━━━━━━━\u001b[0m\u001b[37m\u001b[0m \u001b[1m4s\u001b[0m 3ms/step - loss: 0.0425 - val_loss: 0.0128\n",
      "Epoch 4/10\n",
      "\u001b[1m1227/1227\u001b[0m \u001b[32m━━━━━━━━━━━━━━━━━━━━\u001b[0m\u001b[37m\u001b[0m \u001b[1m4s\u001b[0m 3ms/step - loss: 0.0409 - val_loss: 0.0149\n",
      "Epoch 5/10\n",
      "\u001b[1m1227/1227\u001b[0m \u001b[32m━━━━━━━━━━━━━━━━━━━━\u001b[0m\u001b[37m\u001b[0m \u001b[1m4s\u001b[0m 3ms/step - loss: 0.0389 - val_loss: 0.0162\n",
      "Epoch 6/10\n",
      "\u001b[1m1227/1227\u001b[0m \u001b[32m━━━━━━━━━━━━━━━━━━━━\u001b[0m\u001b[37m\u001b[0m \u001b[1m4s\u001b[0m 4ms/step - loss: 0.0372 - val_loss: 0.0178\n",
      "Epoch 7/10\n",
      "\u001b[1m1227/1227\u001b[0m \u001b[32m━━━━━━━━━━━━━━━━━━━━\u001b[0m\u001b[37m\u001b[0m \u001b[1m8s\u001b[0m 7ms/step - loss: 0.0356 - val_loss: 0.0201\n",
      "Epoch 8/10\n",
      "\u001b[1m1227/1227\u001b[0m \u001b[32m━━━━━━━━━━━━━━━━━━━━\u001b[0m\u001b[37m\u001b[0m \u001b[1m4s\u001b[0m 3ms/step - loss: 0.0342 - val_loss: 0.0208\n",
      "Epoch 9/10\n",
      "\u001b[1m1227/1227\u001b[0m \u001b[32m━━━━━━━━━━━━━━━━━━━━\u001b[0m\u001b[37m\u001b[0m \u001b[1m5s\u001b[0m 4ms/step - loss: 0.0332 - val_loss: 0.0217\n",
      "Epoch 10/10\n",
      "\u001b[1m1227/1227\u001b[0m \u001b[32m━━━━━━━━━━━━━━━━━━━━\u001b[0m\u001b[37m\u001b[0m \u001b[1m5s\u001b[0m 4ms/step - loss: 0.0324 - val_loss: 0.0223\n",
      "\u001b[1m702/702\u001b[0m \u001b[32m━━━━━━━━━━━━━━━━━━━━\u001b[0m\u001b[37m\u001b[0m \u001b[1m2s\u001b[0m 2ms/step\n"
     ]
    },
    {
     "name": "stderr",
     "output_type": "stream",
     "text": [
      "/Library/Frameworks/Python.framework/Versions/3.12/lib/python3.12/site-packages/keras/src/layers/convolutional/base_conv.py:107: UserWarning: Do not pass an `input_shape`/`input_dim` argument to a layer. When using Sequential models, prefer using an `Input(shape)` object as the first layer in the model instead.\n",
      "  super().__init__(activity_regularizer=activity_regularizer, **kwargs)\n"
     ]
    },
    {
     "name": "stdout",
     "output_type": "stream",
     "text": [
      "Epoch 1/10\n",
      "\u001b[1m1227/1227\u001b[0m \u001b[32m━━━━━━━━━━━━━━━━━━━━\u001b[0m\u001b[37m\u001b[0m \u001b[1m59s\u001b[0m 43ms/step - loss: 0.0560 - val_loss: 0.0073\n",
      "Epoch 2/10\n",
      "\u001b[1m1227/1227\u001b[0m \u001b[32m━━━━━━━━━━━━━━━━━━━━\u001b[0m\u001b[37m\u001b[0m \u001b[1m51s\u001b[0m 41ms/step - loss: 0.0460 - val_loss: 0.0074\n",
      "Epoch 3/10\n",
      "\u001b[1m1227/1227\u001b[0m \u001b[32m━━━━━━━━━━━━━━━━━━━━\u001b[0m\u001b[37m\u001b[0m \u001b[1m55s\u001b[0m 45ms/step - loss: 0.0456 - val_loss: 0.0076\n",
      "Epoch 4/10\n",
      "\u001b[1m1227/1227\u001b[0m \u001b[32m━━━━━━━━━━━━━━━━━━━━\u001b[0m\u001b[37m\u001b[0m \u001b[1m51s\u001b[0m 41ms/step - loss: 0.0454 - val_loss: 0.0076\n",
      "Epoch 5/10\n",
      "\u001b[1m1227/1227\u001b[0m \u001b[32m━━━━━━━━━━━━━━━━━━━━\u001b[0m\u001b[37m\u001b[0m \u001b[1m50s\u001b[0m 41ms/step - loss: 0.0452 - val_loss: 0.0077\n",
      "Epoch 6/10\n",
      "\u001b[1m1227/1227\u001b[0m \u001b[32m━━━━━━━━━━━━━━━━━━━━\u001b[0m\u001b[37m\u001b[0m \u001b[1m50s\u001b[0m 41ms/step - loss: 0.0450 - val_loss: 0.0078\n",
      "Epoch 7/10\n",
      "\u001b[1m1227/1227\u001b[0m \u001b[32m━━━━━━━━━━━━━━━━━━━━\u001b[0m\u001b[37m\u001b[0m \u001b[1m52s\u001b[0m 42ms/step - loss: 0.0448 - val_loss: 0.0082\n",
      "Epoch 8/10\n",
      "\u001b[1m1227/1227\u001b[0m \u001b[32m━━━━━━━━━━━━━━━━━━━━\u001b[0m\u001b[37m\u001b[0m \u001b[1m50s\u001b[0m 41ms/step - loss: 0.0445 - val_loss: 0.0084\n",
      "Epoch 9/10\n",
      "\u001b[1m1227/1227\u001b[0m \u001b[32m━━━━━━━━━━━━━━━━━━━━\u001b[0m\u001b[37m\u001b[0m \u001b[1m50s\u001b[0m 41ms/step - loss: 0.0444 - val_loss: 0.0086\n",
      "Epoch 10/10\n",
      "\u001b[1m1227/1227\u001b[0m \u001b[32m━━━━━━━━━━━━━━━━━━━━\u001b[0m\u001b[37m\u001b[0m \u001b[1m50s\u001b[0m 41ms/step - loss: 0.0443 - val_loss: 0.0086\n",
      "\u001b[1m702/702\u001b[0m \u001b[32m━━━━━━━━━━━━━━━━━━━━\u001b[0m\u001b[37m\u001b[0m \u001b[1m5s\u001b[0m 6ms/step\n",
      "\u001b[1m702/702\u001b[0m \u001b[32m━━━━━━━━━━━━━━━━━━━━\u001b[0m\u001b[37m\u001b[0m \u001b[1m1s\u001b[0m 2ms/step\n",
      "\u001b[1m702/702\u001b[0m \u001b[32m━━━━━━━━━━━━━━━━━━━━\u001b[0m\u001b[37m\u001b[0m \u001b[1m4s\u001b[0m 5ms/step\n"
     ]
    },
    {
     "data": {
      "image/png": "[encoded data removed]",
      "text/plain": [
       "<Figure size 1000x500 with 5 Axes>"
      ]
     },
     "metadata": {},
     "output_type": "display_data"
    }
   ],
   "source": [
    "#plot results\n",
    "pca_trial, pca_mse, pca_time = pca(x_train_noisy, x_test, x_test_noisy, 20)\n",
    "dae_trial, dae_mse, dae_time = dae(x_train_noisy_2, x_train_noisy, x_test, x_test_noisy, 20)\n",
    "cnn_dae_trial, cnn_dae_mse, cnn_dae_time = cnn_dae(x_train_noisy_2, x_train_noisy, x_test, x_test_noisy, 20)\n",
    "print_results(pca_trial, dae_trial, cnn_dae_trial, x_test, x_test_noisy, 1, 'results_lf.png')"
   ]
  },
  {
   "cell_type": "code",
   "execution_count": null,
   "metadata": {},
   "outputs": [],
   "source": [
    "#run trials\n",
    "mindim = 4\n",
    "maxdim = 18\n",
    "step = 2\n",
    "dims = range(mindim, maxdim, step)\n",
    "\n",
    "errPCA_lf = np.array([])\n",
    "errDAE_lf = np.array([])\n",
    "errCNN_lf = np.array([])\n",
    "timePCA_lf = np.array([])\n",
    "timeDAE_lf = np.array([])\n",
    "timeCNN_lf = np.array([])\n",
    "for dim in dims:\n",
    "    pca_trial, pca_mse, pca_time = pca(x_train_pca, x_test, x_test_noisy, dim)\n",
    "    dae_trial, dae_mse, dae_time = dae(x_train_noisy_2, x_train_noisy, x_test, x_test_noisy, dim)\n",
    "    cnn_dae_trial, cnn_dae_mse, cnn_dae_time = cnn_dae(x_train_noisy_2,x_train_noisy,x_test,x_test_noisy,dim)\n",
    "    errPCA_lf = np.append(errPCA_lf, pca_mse)\n",
    "    errDAE_lf = np.append(errDAE_lf, dae_mse)\n",
    "    errCNN_lf = np.append(errCNN_lf,cnn_dae_mse)\n",
    "    timePCA_lf = np.append(timePCA_lf, pca_time)\n",
    "    timeDAE_lf = np.append(timeDAE_lf, dae_time)\n",
    "    timeCNN_lf = np.append(timeCNN_lf, cnn_dae_time)"
   ]
  },
  {
   "cell_type": "code",
   "execution_count": null,
   "metadata": {},
   "outputs": [],
   "source": [
    "#plot mse\n",
    "plt.figure(figsize=(10, 5))\n",
    "plt.plot(dims, errPCA_lf, label='PCA', marker='o', color='r', linewidth=3, markersize=10)\n",
    "plt.plot(dims, errDAE_lf, label='DAE', marker='o', color='b', linewidth=3, markersize=10)\n",
    "plt.plot(dims, errCNN_lf, label='CNN', marker='o', color='g', linewidth=3, markersize=10)\n",
    "plt.xlabel('Latent dimension/Number of components', fontsize=16)\n",
    "plt.ylabel('MSE', fontsize=16)\n",
    "plt.legend(fontsize=16)\n",
    "plt.tick_params(axis='both', which='major', labelsize=16)\n",
    "plt.tight_layout()\n",
    "plt.savefig('validation_low_freq.eps')"
   ]
  },
  {
   "cell_type": "code",
   "execution_count": null,
   "metadata": {},
   "outputs": [],
   "source": [
    "#plot runtime\n",
    "plt.figure(figsize=(10, 5))\n",
    "plt.semilogy(dims, timePCA_lf, label='PCA', marker='o', color='r', linewidth=3, markersize=10)\n",
    "plt.semilogy(dims, timeDAE_lf, label='DAE', marker='o', color='b', linewidth=3, markersize=10)\n",
    "plt.semilogy(dims, timeCNN_lf, label='CNN', marker='o', color='g', linewidth=3, markersize=10)\n",
    "plt.xlabel('Latent dimension/Number of components', fontsize=16)\n",
    "plt.ylabel('Runtime [s]', fontsize=16)\n",
    "plt.legend(fontsize=16)\n",
    "plt.ylim(1, 1100)\n",
    "plt.tick_params(axis='both', which='major', labelsize=16)\n",
    "plt.tight_layout()\n",
    "plt.savefig('runtime_low_freq.eps')"
   ]
  }
 ],
 "metadata": {
  "kernelspec": {
   "display_name": "Python 3",
   "language": "python",
   "name": "python3"
  },
  "language_info": {
   "codemirror_mode": {
    "name": "ipython",
    "version": 3
   },
   "file_extension": ".py",
   "mimetype": "text/x-python",
   "name": "python",
   "nbconvert_exporter": "python",
   "pygments_lexer": "ipython3",
   "version": "3.12.7"
  }
 },
 "nbformat": 4,
 "nbformat_minor": 2
}
